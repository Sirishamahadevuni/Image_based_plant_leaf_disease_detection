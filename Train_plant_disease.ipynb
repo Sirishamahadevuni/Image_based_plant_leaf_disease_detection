{
 "cells": [
  {
   "cell_type": "markdown",
   "metadata": {},
   "source": [
    "# Plant Disease Prediction"
   ]
  },
  {
   "cell_type": "markdown",
   "metadata": {
    "id": "BeB10ZMav-SW"
   },
   "source": [
    "## Importing Dataset"
   ]
  },
  {
   "cell_type": "markdown",
   "metadata": {
    "id": "rPw7by-7Fs5M"
   },
   "source": [
    "Dataset Link: https://www.kaggle.com/datasets/vipoooool/new-plant-diseases-dataset"
   ]
  },
  {
   "cell_type": "markdown",
   "metadata": {
    "id": "5vUbBvinu8zW"
   },
   "source": [
    "## Importing libraries"
   ]
  },
  {
   "cell_type": "code",
   "execution_count": 1,
   "metadata": {
    "id": "4JsejDm3uxTS"
   },
   "outputs": [],
   "source": [
    "import tensorflow as tf\n",
    "import matplotlib.pyplot as plt\n",
    "import pandas as pd\n",
    "import seaborn as sns"
   ]
  },
  {
   "cell_type": "markdown",
   "metadata": {
    "id": "i2w52yYrvTu9"
   },
   "source": [
    "## Data Preprocessing"
   ]
  },
  {
   "cell_type": "markdown",
   "metadata": {
    "id": "vU3NlcKCwlIZ"
   },
   "source": [
    "### Training Image preprocessing"
   ]
  },
  {
   "cell_type": "code",
   "execution_count": null,
   "metadata": {
    "colab": {
     "base_uri": "https://localhost:8080/"
    },
    "id": "Kjoa0oUHvQAv",
    "outputId": "35053f0d-5fd0-4b98-cd8f-fa0a88a79e8f"
   },
   "outputs": [
    {
     "name": "stdout",
     "output_type": "stream",
     "text": [
      "Found 70295 files belonging to 38 classes.\n"
     ]
    }
   ],
   "source": [
    "training_set = tf.keras.utils.image_dataset_from_directory(\n",
    "    'train',\n",
    "    labels=\"inferred\",\n",
    "    label_mode=\"categorical\",\n",
    "    class_names=None,\n",
    "    color_mode=\"rgb\",\n",
    "    batch_size=32,\n",
    "    image_size=(128, 128),\n",
    "    shuffle=True,\n",
    "    seed=None,\n",
    "    validation_split=None,\n",
    "    subset=None,\n",
    "    interpolation=\"bilinear\",\n",
    "    follow_links=False,\n",
    "    crop_to_aspect_ratio=False\n",
    ")"
   ]
  },
  {
   "cell_type": "markdown",
   "metadata": {
    "id": "nK9Ev76o0mdJ"
   },
   "source": [
    "### Validation Image Preprocessing"
   ]
  },
  {
   "cell_type": "code",
   "execution_count": null,
   "metadata": {
    "colab": {
     "base_uri": "https://localhost:8080/"
    },
    "id": "Tocls4IowkNB",
    "outputId": "3b0d8b3d-8552-4e0f-c1f2-7c9f7e28a944"
   },
   "outputs": [
    {
     "name": "stdout",
     "output_type": "stream",
     "text": [
      "Found 17572 files belonging to 38 classes.\n"
     ]
    }
   ],
   "source": [
    "validation_set = tf.keras.utils.image_dataset_from_directory(\n",
    "    'valid',\n",
    "    labels=\"inferred\",\n",
    "    label_mode=\"categorical\",\n",
    "    class_names=None,\n",
    "    color_mode=\"rgb\",\n",
    "    batch_size=32,\n",
    "    image_size=(128, 128),\n",
    "    shuffle=True,\n",
    "    seed=None,\n",
    "    validation_split=None,\n",
    "    subset=None,\n",
    "    interpolation=\"bilinear\",\n",
    "    follow_links=False,\n",
    "    crop_to_aspect_ratio=False\n",
    ")"
   ]
  },
  {
   "cell_type": "code",
   "execution_count": null,
   "metadata": {},
   "outputs": [
    {
     "data": {
      "text/plain": [
       "<_PrefetchDataset element_spec=(TensorSpec(shape=(None, 128, 128, 3), dtype=tf.float32, name=None), TensorSpec(shape=(None, 38), dtype=tf.float32, name=None))>"
      ]
     },
     "execution_count": 4,
     "metadata": {},
     "output_type": "execute_result"
    }
   ],
   "source": [
    "training_set"
   ]
  },
  {
   "cell_type": "code",
   "execution_count": null,
   "metadata": {},
   "outputs": [
    {
     "name": "stdout",
     "output_type": "stream",
     "text": [
      "tf.Tensor(\n",
      "[[[[ 77.5   66.5   66.5 ]\n",
      "   [ 67.5   57.5   57.5 ]\n",
      "   [ 76.75  66.75  66.75]\n",
      "   ...\n",
      "   [ 79.    69.25  72.  ]\n",
      "   [ 82.25  71.75  75.25]\n",
      "   [ 80.75  71.75  73.75]]\n",
      "\n",
      "  [[141.75 129.75 129.75]\n",
      "   [141.25 129.25 129.25]\n",
      "   [154.75 142.75 142.75]\n",
      "   ...\n",
      "   [153.   142.   146.  ]\n",
      "   [156.75 145.75 149.75]\n",
      "   [158.75 147.75 151.75]]\n",
      "\n",
      "  [[140.5  126.5  126.5 ]\n",
      "   [148.75 134.75 134.75]\n",
      "   [135.25 121.25 121.25]\n",
      "   ...\n",
      "   [149.25 138.25 142.25]\n",
      "   [157.25 146.25 150.25]\n",
      "   [158.75 147.75 151.75]]\n",
      "\n",
      "  ...\n",
      "\n",
      "  [[148.75 134.75 134.75]\n",
      "   [144.   130.   130.  ]\n",
      "   [122.   108.   108.  ]\n",
      "   ...\n",
      "   [153.75 142.75 146.75]\n",
      "   [156.25 145.25 149.25]\n",
      "   [156.   145.   149.  ]]\n",
      "\n",
      "  [[125.25 111.25 111.25]\n",
      "   [145.   131.   131.  ]\n",
      "   [142.25 128.25 128.25]\n",
      "   ...\n",
      "   [148.   137.   141.  ]\n",
      "   [153.   142.   146.  ]\n",
      "   [159.75 148.75 152.75]]\n",
      "\n",
      "  [[147.75 133.75 133.75]\n",
      "   [142.5  128.5  128.5 ]\n",
      "   [141.25 127.25 127.25]\n",
      "   ...\n",
      "   [151.75 140.75 144.75]\n",
      "   [149.   138.   142.  ]\n",
      "   [152.5  141.5  145.5 ]]]\n",
      "\n",
      "\n",
      " [[[ 63.75  58.75  55.75]\n",
      "   [ 64.75  59.75  56.75]\n",
      "   [ 66.25  61.25  58.25]\n",
      "   ...\n",
      "   [ 61.5   56.5   53.5 ]\n",
      "   [ 57.5   52.5   49.5 ]\n",
      "   [ 60.25  55.25  52.25]]\n",
      "\n",
      "  [[ 70.25  65.25  62.25]\n",
      "   [ 70.75  65.75  62.75]\n",
      "   [ 71.75  66.75  63.75]\n",
      "   ...\n",
      "   [ 62.25  57.25  54.25]\n",
      "   [ 60.5   55.5   52.5 ]\n",
      "   [ 62.5   57.5   54.5 ]]\n",
      "\n",
      "  [[ 68.5   63.5   60.5 ]\n",
      "   [ 66.5   61.5   58.5 ]\n",
      "   [ 64.25  59.25  56.25]\n",
      "   ...\n",
      "   [ 59.5   54.5   51.5 ]\n",
      "   [ 61.25  56.25  53.25]\n",
      "   [ 61.75  56.75  53.75]]\n",
      "\n",
      "  ...\n",
      "\n",
      "  [[183.75 178.75 174.75]\n",
      "   [184.5  179.5  175.5 ]\n",
      "   [188.75 183.75 179.75]\n",
      "   ...\n",
      "   [166.5  159.5  153.5 ]\n",
      "   [166.75 159.75 153.75]\n",
      "   [173.   166.   160.  ]]\n",
      "\n",
      "  [[191.75 186.75 182.75]\n",
      "   [187.25 182.25 178.25]\n",
      "   [187.25 182.25 178.25]\n",
      "   ...\n",
      "   [175.75 168.75 162.75]\n",
      "   [171.5  164.5  158.5 ]\n",
      "   [169.25 162.25 156.25]]\n",
      "\n",
      "  [[179.25 174.25 170.25]\n",
      "   [188.75 183.75 179.75]\n",
      "   [193.75 188.75 184.75]\n",
      "   ...\n",
      "   [169.5  162.5  156.5 ]\n",
      "   [160.25 153.25 147.25]\n",
      "   [167.25 160.25 154.25]]]\n",
      "\n",
      "\n",
      " [[[234.75 231.75 240.75]\n",
      "   [230.75 227.75 236.75]\n",
      "   [225.   222.   231.  ]\n",
      "   ...\n",
      "   [197.75 194.75 215.75]\n",
      "   [196.   193.   214.  ]\n",
      "   [191.5  188.5  209.5 ]]\n",
      "\n",
      "  [[234.5  231.5  240.5 ]\n",
      "   [231.   228.   237.  ]\n",
      "   [224.5  221.5  230.5 ]\n",
      "   ...\n",
      "   [193.75 190.75 211.75]\n",
      "   [191.   188.   209.  ]\n",
      "   [189.5  186.5  207.5 ]]\n",
      "\n",
      "  [[232.25 229.25 238.25]\n",
      "   [230.75 227.75 236.75]\n",
      "   [225.25 222.25 231.25]\n",
      "   ...\n",
      "   [194.5  191.5  212.5 ]\n",
      "   [192.5  189.5  210.5 ]\n",
      "   [186.25 183.25 204.25]]\n",
      "\n",
      "  ...\n",
      "\n",
      "  [[205.   200.75 220.  ]\n",
      "   [210.25 198.75 208.75]\n",
      "   [205.75 195.75 206.  ]\n",
      "   ...\n",
      "   [157.   118.    56.75]\n",
      "   [175.25 136.25 105.5 ]\n",
      "   [168.25 153.   136.75]]\n",
      "\n",
      "  [[194.25 193.5  209.5 ]\n",
      "   [208.   202.5  208.75]\n",
      "   [205.5  199.   207.75]\n",
      "   ...\n",
      "   [175.5  134.5   63.  ]\n",
      "   [156.   116.75  64.  ]\n",
      "   [145.   131.75  80.75]]\n",
      "\n",
      "  [[195.5  198.   213.  ]\n",
      "   [191.   187.75 193.  ]\n",
      "   [199.75 197.75 203.5 ]\n",
      "   ...\n",
      "   [183.   140.75  63.  ]\n",
      "   [165.   127.5   57.5 ]\n",
      "   [135.75 126.25  50.25]]]\n",
      "\n",
      "\n",
      " ...\n",
      "\n",
      "\n",
      " [[[123.75 124.25 120.25]\n",
      "   [132.5  134.5  130.5 ]\n",
      "   [120.25 122.25 120.25]\n",
      "   ...\n",
      "   [145.   144.   150.  ]\n",
      "   [148.   147.   153.  ]\n",
      "   [145.5  144.5  150.5 ]]\n",
      "\n",
      "  [[130.5  129.25 136.5 ]\n",
      "   [131.5  130.5  137.  ]\n",
      "   [123.   123.75 129.  ]\n",
      "   ...\n",
      "   [144.75 143.75 149.75]\n",
      "   [147.5  146.5  152.5 ]\n",
      "   [146.5  145.5  151.5 ]]\n",
      "\n",
      "  [[122.25 120.25 132.25]\n",
      "   [121.25 119.5  130.25]\n",
      "   [130.25 129.   137.25]\n",
      "   ...\n",
      "   [146.75 145.75 151.75]\n",
      "   [148.75 147.75 153.75]\n",
      "   [145.25 144.25 150.25]]\n",
      "\n",
      "  ...\n",
      "\n",
      "  [[ 84.75  78.75  80.75]\n",
      "   [ 89.5   83.5   85.5 ]\n",
      "   [ 89.5   83.5   85.5 ]\n",
      "   ...\n",
      "   [156.75 153.75 160.75]\n",
      "   [157.5  154.5  161.5 ]\n",
      "   [158.25 155.25 162.25]]\n",
      "\n",
      "  [[ 87.75  81.75  83.75]\n",
      "   [ 87.5   81.5   83.5 ]\n",
      "   [ 87.5   81.5   83.5 ]\n",
      "   ...\n",
      "   [155.5  152.5  159.5 ]\n",
      "   [156.25 153.25 160.25]\n",
      "   [157.   154.   161.  ]]\n",
      "\n",
      "  [[ 86.    80.    82.  ]\n",
      "   [ 84.25  78.25  80.25]\n",
      "   [ 85.    79.    81.  ]\n",
      "   ...\n",
      "   [158.25 155.25 162.25]\n",
      "   [157.5  154.5  161.5 ]\n",
      "   [157.   154.   161.  ]]]\n",
      "\n",
      "\n",
      " [[[159.   163.   162.  ]\n",
      "   [162.   166.   165.  ]\n",
      "   [161.   165.   164.  ]\n",
      "   ...\n",
      "   [154.25 159.25 153.25]\n",
      "   [155.5  160.5  154.5 ]\n",
      "   [157.5  162.5  156.5 ]]\n",
      "\n",
      "  [[161.75 165.75 164.75]\n",
      "   [157.5  161.5  160.5 ]\n",
      "   [153.75 157.75 156.75]\n",
      "   ...\n",
      "   [155.   160.   154.  ]\n",
      "   [155.25 160.25 154.25]\n",
      "   [156.75 161.75 155.75]]\n",
      "\n",
      "  [[149.   153.   152.  ]\n",
      "   [145.75 149.75 148.75]\n",
      "   [145.5  149.5  148.5 ]\n",
      "   ...\n",
      "   [155.25 160.25 154.25]\n",
      "   [155.   160.   154.  ]\n",
      "   [155.5  160.5  154.5 ]]\n",
      "\n",
      "  ...\n",
      "\n",
      "  [[ 69.5   62.5   52.5 ]\n",
      "   [ 67.    60.    50.  ]\n",
      "   [ 68.5   61.5   51.5 ]\n",
      "   ...\n",
      "   [ 79.5   75.5   66.5 ]\n",
      "   [ 76.25  72.25  63.25]\n",
      "   [ 78.5   74.5   65.5 ]]\n",
      "\n",
      "  [[ 74.    67.    57.  ]\n",
      "   [ 71.    64.    54.  ]\n",
      "   [ 72.25  65.25  55.25]\n",
      "   ...\n",
      "   [ 79.25  75.25  66.25]\n",
      "   [ 76.5   72.5   63.5 ]\n",
      "   [ 76.5   72.5   63.5 ]]\n",
      "\n",
      "  [[ 74.25  67.25  57.25]\n",
      "   [ 74.75  67.75  57.75]\n",
      "   [ 76.5   69.5   59.5 ]\n",
      "   ...\n",
      "   [ 84.25  80.25  71.25]\n",
      "   [ 83.    79.    70.  ]\n",
      "   [ 83.    79.    70.  ]]]\n",
      "\n",
      "\n",
      " [[[ 60.25  54.25  67.25]\n",
      "   [ 53.25  46.    60.25]\n",
      "   [ 76.    70.    83.  ]\n",
      "   ...\n",
      "   [ 38.    29.5   29.  ]\n",
      "   [ 51.    41.75  41.  ]\n",
      "   [ 44.25  35.25  34.75]]\n",
      "\n",
      "  [[123.25 114.25 132.25]\n",
      "   [122.25 113.25 131.25]\n",
      "   [111.5  102.5  120.5 ]\n",
      "   ...\n",
      "   [ 80.25  67.75  67.75]\n",
      "   [ 84.    71.5   71.5 ]\n",
      "   [ 76.75  64.25  64.25]]\n",
      "\n",
      "  [[102.    92.5  115.  ]\n",
      "   [114.   104.5  127.  ]\n",
      "   [104.75  95.25 117.75]\n",
      "   ...\n",
      "   [ 91.75  75.5   76.5 ]\n",
      "   [ 90.5   74.25  75.25]\n",
      "   [ 86.25  70.    71.  ]]\n",
      "\n",
      "  ...\n",
      "\n",
      "  [[126.75 116.75 141.75]\n",
      "   [133.75 123.75 148.75]\n",
      "   [130.   120.   145.  ]\n",
      "   ...\n",
      "   [109.25 101.25 122.25]\n",
      "   [ 83.    75.    96.  ]\n",
      "   [119.5  111.5  132.5 ]]\n",
      "\n",
      "  [[149.5  139.5  164.5 ]\n",
      "   [134.75 124.75 149.75]\n",
      "   [127.   117.   142.  ]\n",
      "   ...\n",
      "   [ 89.5   81.5  102.5 ]\n",
      "   [ 90.25  82.25 103.25]\n",
      "   [112.75 104.75 125.75]]\n",
      "\n",
      "  [[161.25 151.25 176.25]\n",
      "   [123.   113.   138.  ]\n",
      "   [106.25  96.25 121.25]\n",
      "   ...\n",
      "   [ 75.75  67.75  88.75]\n",
      "   [ 57.25  49.25  70.25]\n",
      "   [111.   103.   124.  ]]]], shape=(32, 128, 128, 3), dtype=float32) (32, 128, 128, 3)\n",
      "tf.Tensor(\n",
      "[[0. 1. 0. ... 0. 0. 0.]\n",
      " [0. 0. 0. ... 0. 0. 0.]\n",
      " [0. 0. 0. ... 0. 0. 0.]\n",
      " ...\n",
      " [0. 0. 0. ... 0. 0. 0.]\n",
      " [0. 0. 0. ... 1. 0. 0.]\n",
      " [0. 1. 0. ... 0. 0. 0.]], shape=(32, 38), dtype=float32) (32, 38)\n"
     ]
    }
   ],
   "source": [
    "for x,y in training_set:\n",
    "    print(x,x.shape)\n",
    "    print(y,y.shape)\n",
    "    break"
   ]
  },
  {
   "cell_type": "markdown",
   "metadata": {},
   "source": [
    "#### To avoid Overshooting Loss function\n",
    "1. Choose small learning rate default 0.001 here we have taken 0.0001\n",
    "2. There may be chance of underfitting so increase number of neuron\n",
    "3. Add more Convolutional Layer to extract more feature from images there may be possibilty that model unable to capture relevant feature or model is confusing due to lack of feature so feed with more feature"
   ]
  },
  {
   "cell_type": "markdown",
   "metadata": {
    "id": "OQ_TcbD7r2Cw"
   },
   "source": [
    "## Building Model"
   ]
  },
  {
   "cell_type": "code",
   "execution_count": null,
   "metadata": {},
   "outputs": [],
   "source": [
    "from tensorflow.keras.layers import Dense,Conv2D,MaxPool2D,Flatten,Dropout\n",
    "from tensorflow.keras.models import Sequential\n"
   ]
  },
  {
   "cell_type": "code",
   "execution_count": null,
   "metadata": {},
   "outputs": [
    {
     "name": "stdout",
     "output_type": "stream",
     "text": [
      "WARNING:tensorflow:From c:\\Python311\\Lib\\site-packages\\tf_keras\\src\\backend.py:873: The name tf.get_default_graph is deprecated. Please use tf.compat.v1.get_default_graph instead.\n",
      "\n"
     ]
    }
   ],
   "source": [
    "model=Sequential()"
   ]
  },
  {
   "cell_type": "code",
   "execution_count": null,
   "metadata": {
    "id": "LoaODWuZrHFg"
   },
   "outputs": [
    {
     "name": "stdout",
     "output_type": "stream",
     "text": [
      "WARNING:tensorflow:From c:\\Python311\\Lib\\site-packages\\tf_keras\\src\\layers\\pooling\\max_pooling2d.py:161: The name tf.nn.max_pool is deprecated. Please use tf.nn.max_pool2d instead.\n",
      "\n"
     ]
    }
   ],
   "source": [
    "model.add(Conv2D(filters=32,kernel_size=3,padding='same',activation='relu',input_shape=[128,128,3]))\n",
    "model.add(Conv2D(filters=32,kernel_size=3,activation='relu'))\n",
    "model.add(MaxPool2D(pool_size=2,strides=2))"
   ]
  },
  {
   "cell_type": "code",
   "execution_count": null,
   "metadata": {
    "id": "5-potKmKsOr2"
   },
   "outputs": [],
   "source": [
    "model.add(Conv2D(filters=64,kernel_size=3,padding='same',activation='relu',input_shape=[128,128,3]))\n",
    "model.add(Conv2D(filters=64,kernel_size=3,activation='relu'))\n",
    "model.add(MaxPool2D(pool_size=2,strides=2))"
   ]
  },
  {
   "cell_type": "code",
   "execution_count": null,
   "metadata": {},
   "outputs": [],
   "source": [
    "model.add(Conv2D(filters=128,kernel_size=3,padding='same',activation='relu'))\n",
    "model.add(Conv2D(filters=128,kernel_size=3,activation='relu'))\n",
    "model.add(MaxPool2D(pool_size=2,strides=2))"
   ]
  },
  {
   "cell_type": "code",
   "execution_count": null,
   "metadata": {},
   "outputs": [],
   "source": [
    "model.add(Conv2D(filters=256,kernel_size=3,padding='same',activation='relu'))\n",
    "model.add(Conv2D(filters=256,kernel_size=3,activation='relu'))\n",
    "model.add(MaxPool2D(pool_size=2,strides=2))"
   ]
  },
  {
   "cell_type": "code",
   "execution_count": null,
   "metadata": {},
   "outputs": [],
   "source": [
    "model.add(Conv2D(filters=512,kernel_size=3,padding='same',activation='relu'))\n",
    "model.add(Conv2D(filters=512,kernel_size=3,activation='relu'))\n",
    "model.add(MaxPool2D(pool_size=2,strides=2))"
   ]
  },
  {
   "cell_type": "code",
   "execution_count": null,
   "metadata": {},
   "outputs": [],
   "source": [
    "model.add(Dropout(0.25))"
   ]
  },
  {
   "cell_type": "code",
   "execution_count": null,
   "metadata": {
    "id": "NPZ2NGthuTv5"
   },
   "outputs": [],
   "source": [
    "model.add(Flatten())"
   ]
  },
  {
   "cell_type": "code",
   "execution_count": null,
   "metadata": {
    "id": "demjWjcWuc3q"
   },
   "outputs": [],
   "source": [
    "model.add(Dense(units=1500,activation='relu'))"
   ]
  },
  {
   "cell_type": "code",
   "execution_count": null,
   "metadata": {},
   "outputs": [],
   "source": [
    "model.add(Dropout(0.4))"
   ]
  },
  {
   "cell_type": "code",
   "execution_count": null,
   "metadata": {
    "id": "toAqflkCuwoS"
   },
   "outputs": [],
   "source": [
    "#Output Layer\n",
    "model.add(Dense(units=38,activation='softmax'))"
   ]
  },
  {
   "cell_type": "markdown",
   "metadata": {
    "id": "sYYdAFZDvt1P"
   },
   "source": [
    "### Compiling and Training Phase"
   ]
  },
  {
   "cell_type": "code",
   "execution_count": null,
   "metadata": {
    "id": "yAcyiEfVvVzw"
   },
   "outputs": [],
   "source": [
    "\n",
    "optimizer = tf.keras.optimizers.Adam(learning_rate=0.0001)\n",
    "model.compile(optimizer=optimizer, loss='categorical_crossentropy', metrics=['accuracy'])\n",
    "\n"
   ]
  },
  {
   "cell_type": "code",
   "execution_count": null,
   "metadata": {
    "colab": {
     "base_uri": "https://localhost:8080/"
    },
    "id": "X0MROJsdlC5Z",
    "outputId": "59099315-950c-4546-d62d-626f4ca3b80d"
   },
   "outputs": [
    {
     "name": "stdout",
     "output_type": "stream",
     "text": [
      "Model: \"sequential\"\n",
      "_________________________________________________________________\n",
      " Layer (type)                Output Shape              Param #   \n",
      "=================================================================\n",
      " conv2d (Conv2D)             (None, 128, 128, 32)      896       \n",
      "                                                                 \n",
      " conv2d_1 (Conv2D)           (None, 126, 126, 32)      9248      \n",
      "                                                                 \n",
      " max_pooling2d (MaxPooling2  (None, 63, 63, 32)        0         \n",
      " D)                                                              \n",
      "                                                                 \n",
      " conv2d_2 (Conv2D)           (None, 63, 63, 64)        18496     \n",
      "                                                                 \n",
      " conv2d_3 (Conv2D)           (None, 61, 61, 64)        36928     \n",
      "                                                                 \n",
      " max_pooling2d_1 (MaxPoolin  (None, 30, 30, 64)        0         \n",
      " g2D)                                                            \n",
      "                                                                 \n",
      " conv2d_4 (Conv2D)           (None, 30, 30, 128)       73856     \n",
      "                                                                 \n",
      " conv2d_5 (Conv2D)           (None, 28, 28, 128)       147584    \n",
      "                                                                 \n",
      " max_pooling2d_2 (MaxPoolin  (None, 14, 14, 128)       0         \n",
      " g2D)                                                            \n",
      "                                                                 \n",
      " conv2d_6 (Conv2D)           (None, 14, 14, 256)       295168    \n",
      "                                                                 \n",
      " conv2d_7 (Conv2D)           (None, 12, 12, 256)       590080    \n",
      "                                                                 \n",
      " max_pooling2d_3 (MaxPoolin  (None, 6, 6, 256)         0         \n",
      " g2D)                                                            \n",
      "                                                                 \n",
      " conv2d_8 (Conv2D)           (None, 6, 6, 512)         1180160   \n",
      "                                                                 \n",
      " conv2d_9 (Conv2D)           (None, 4, 4, 512)         2359808   \n",
      "                                                                 \n",
      " max_pooling2d_4 (MaxPoolin  (None, 2, 2, 512)         0         \n",
      " g2D)                                                            \n",
      "                                                                 \n",
      " dropout (Dropout)           (None, 2, 2, 512)         0         \n",
      "                                                                 \n",
      " flatten (Flatten)           (None, 2048)              0         \n",
      "                                                                 \n",
      " dense (Dense)               (None, 1500)              3073500   \n",
      "                                                                 \n",
      " dropout_1 (Dropout)         (None, 1500)              0         \n",
      "                                                                 \n",
      " dense_1 (Dense)             (None, 38)                57038     \n",
      "                                                                 \n",
      "=================================================================\n",
      "Total params: 7842762 (29.92 MB)\n",
      "Trainable params: 7842762 (29.92 MB)\n",
      "Non-trainable params: 0 (0.00 Byte)\n",
      "_________________________________________________________________\n"
     ]
    }
   ],
   "source": [
    "model.summary()"
   ]
  },
  {
   "cell_type": "markdown",
   "metadata": {
    "id": "19E3mwj1phoW"
   },
   "source": [
    "## Evaluating Model"
   ]
  },
  {
   "cell_type": "code",
   "execution_count": null,
   "metadata": {},
   "outputs": [
    {
     "name": "stdout",
     "output_type": "stream",
     "text": [
      "Epoch 1/5\n",
      "WARNING:tensorflow:From c:\\Python311\\Lib\\site-packages\\tensorflow\\python\\autograph\\converters\\directives.py:126: The name tf.ragged.RaggedTensorValue is deprecated. Please use tf.compat.v1.ragged.RaggedTensorValue instead.\n",
      "\n",
      "WARNING:tensorflow:From c:\\Python311\\Lib\\site-packages\\tf_keras\\src\\engine\\base_layer_utils.py:384: The name tf.executing_eagerly_outside_functions is deprecated. Please use tf.compat.v1.executing_eagerly_outside_functions instead.\n",
      "\n",
      " 344/2197 [===>..........................] - ETA: 49:10 - loss: 3.1750 - accuracy: 0.1291"
     ]
    }
   ],
   "source": [
    "training_history =model.fit(x=training_set,validation_data=validation_set,epochs=5,batch_size=64)"
   ]
  },
  {
   "cell_type": "code",
   "execution_count": null,
   "metadata": {
    "colab": {
     "base_uri": "https://localhost:8080/"
    },
    "id": "iY6o3uxjpgl5",
    "outputId": "372a2b25-5cdd-47c0-da77-1e9a5ee84f6c"
   },
   "outputs": [
    {
     "name": "stdout",
     "output_type": "stream",
     "text": [
      "  24/2197 [..............................] - ETA: 9:45 - loss: 5.0972 - accuracy: 0.0326"
     ]
    }
   ],
   "source": [
    "#Training set Accuracy\n",
    "train_loss, train_acc = model.evaluate(training_set)\n",
    "print('Training accuracy:', train_acc)"
   ]
  },
  {
   "cell_type": "code",
   "execution_count": null,
   "metadata": {},
   "outputs": [],
   "source": [
    "print(train_loss,train_acc)"
   ]
  },
  {
   "cell_type": "code",
   "execution_count": null,
   "metadata": {
    "colab": {
     "base_uri": "https://localhost:8080/"
    },
    "id": "5SaQgd7bpgwl",
    "outputId": "0e82ce04-bdf8-4b31-bc00-cbb7198df7e7"
   },
   "outputs": [],
   "source": [
    "#Validation set Accuracy\n",
    "val_loss, val_acc = model.evaluate(validation_set)\n",
    "print('Validation accuracy:', val_acc)"
   ]
  },
  {
   "cell_type": "markdown",
   "metadata": {
    "id": "Qxp0xsjVBGec"
   },
   "source": [
    "### Saving Model"
   ]
  },
  {
   "cell_type": "code",
   "execution_count": null,
   "metadata": {
    "id": "EEUrBzCrxKt_"
   },
   "outputs": [],
   "source": [
    "model.save('trained_plant_disease_model.keras')"
   ]
  },
  {
   "cell_type": "code",
   "execution_count": null,
   "metadata": {
    "colab": {
     "base_uri": "https://localhost:8080/"
    },
    "id": "BM-sILNMBwh1",
    "outputId": "3d1eb8a8-2742-4b1b-f8f3-10c1f0803975"
   },
   "outputs": [],
   "source": [
    "training_history.history #Return Dictionary of history"
   ]
  },
  {
   "cell_type": "code",
   "execution_count": null,
   "metadata": {
    "id": "GdF3Ig4ZBU9V"
   },
   "outputs": [],
   "source": [
    "#Recording History in json\n",
    "import json\n",
    "with open('training_hist.json','w') as f:\n",
    "  json.dump(training_history.history,f)"
   ]
  },
  {
   "cell_type": "code",
   "execution_count": null,
   "metadata": {
    "colab": {
     "base_uri": "https://localhost:8080/"
    },
    "id": "w8PnAYbuCNhu",
    "outputId": "665cd52d-4777-4e7e-9c04-cc7716c5fb62"
   },
   "outputs": [],
   "source": [
    "print(training_history.history.keys())"
   ]
  },
  {
   "cell_type": "markdown",
   "metadata": {
    "id": "qNIMPXKFEZ5B"
   },
   "source": [
    "## Accuracy Visualization"
   ]
  },
  {
   "cell_type": "code",
   "execution_count": null,
   "metadata": {
    "colab": {
     "base_uri": "https://localhost:8080/",
     "height": 295
    },
    "id": "gfKdieuJCt3m",
    "outputId": "00c39bea-d59d-48bd-a9bb-f819e1313252"
   },
   "outputs": [],
   "source": [
    "epochs = [i for i in range(1,6)]\n",
    "plt.plot(epochs,training_history.history['accuracy'],color='red',label='Training Accuracy')\n",
    "plt.plot(epochs,training_history.history['val_accuracy'],color='blue',label='Validation Accuracy')\n",
    "plt.xlabel('No. of Epochs')\n",
    "plt.title('Visualization of Accuracy Result')\n",
    "plt.legend()\n",
    "plt.show()"
   ]
  },
  {
   "cell_type": "markdown",
   "metadata": {},
   "source": [
    "## Some other metrics for model evaluation"
   ]
  },
  {
   "cell_type": "code",
   "execution_count": null,
   "metadata": {},
   "outputs": [],
   "source": [
    "class_name = validation_set.class_names\n",
    "class_name"
   ]
  },
  {
   "cell_type": "code",
   "execution_count": null,
   "metadata": {},
   "outputs": [],
   "source": [
    "test_set = tf.keras.utils.image_dataset_from_directory(\n",
    "    'valid',\n",
    "    labels=\"inferred\",\n",
    "    label_mode=\"categorical\",\n",
    "    class_names=None,\n",
    "    color_mode=\"rgb\",\n",
    "    batch_size=1,\n",
    "    image_size=(128, 128),\n",
    "    shuffle=False,\n",
    "    seed=None,\n",
    "    validation_split=None,\n",
    "    subset=None,\n",
    "    interpolation=\"bilinear\",\n",
    "    follow_links=False,\n",
    "    crop_to_aspect_ratio=False\n",
    ")"
   ]
  },
  {
   "cell_type": "code",
   "execution_count": null,
   "metadata": {},
   "outputs": [],
   "source": [
    "y_pred = model.predict(test_set)\n",
    "y_pred,y_pred.shape\n"
   ]
  },
  {
   "cell_type": "code",
   "execution_count": null,
   "metadata": {},
   "outputs": [],
   "source": [
    "predicted_categories = tf.argmax(y_pred, axis=1)\n",
    "predicted_categories"
   ]
  },
  {
   "cell_type": "code",
   "execution_count": null,
   "metadata": {},
   "outputs": [],
   "source": [
    "true_categories = tf.concat([y for x, y in test_set], axis=0)\n",
    "Y_true = tf.argmax(true_categories, axis=1)"
   ]
  },
  {
   "cell_type": "code",
   "execution_count": null,
   "metadata": {},
   "outputs": [],
   "source": [
    "Y_true"
   ]
  },
  {
   "cell_type": "code",
   "execution_count": null,
   "metadata": {},
   "outputs": [],
   "source": [
    "predicted_categories"
   ]
  },
  {
   "cell_type": "code",
   "execution_count": null,
   "metadata": {},
   "outputs": [],
   "source": [
    "from sklearn.metrics import confusion_matrix,classification_report\n",
    "cm = confusion_matrix(Y_true,predicted_categories)"
   ]
  },
  {
   "cell_type": "code",
   "execution_count": null,
   "metadata": {},
   "outputs": [],
   "source": [
    "# Precision Recall Fscore\n",
    "print(classification_report(Y_true,predicted_categories,target_names=class_name))"
   ]
  },
  {
   "cell_type": "markdown",
   "metadata": {},
   "source": [
    "### Confusion Matrix Visualization"
   ]
  },
  {
   "cell_type": "code",
   "execution_count": null,
   "metadata": {},
   "outputs": [],
   "source": [
    "cn=confusion_matrix(Y_true,predicted_categories)\n",
    "cn"
   ]
  },
  {
   "cell_type": "code",
   "execution_count": null,
   "metadata": {},
   "outputs": [],
   "source": [
    "plt.figure(figsize=(40, 40))\n",
    "sns.heatmap(cm,annot=True,annot_kws={\"size\": 10})\n",
    "\n",
    "plt.xlabel('Predicted Class',fontsize = 20)\n",
    "plt.ylabel('Actual Class',fontsize = 20)\n",
    "plt.title('Plant Disease Prediction Confusion Matrix',fontsize = 25)\n",
    "plt.show()"
   ]
  }
 ],
 "metadata": {
  "colab": {
   "provenance": []
  },
  "kernelspec": {
   "display_name": "Python 3 (ipykernel)",
   "language": "python",
   "name": "python3"
  },
  "language_info": {
   "codemirror_mode": {
    "name": "ipython",
    "version": 3
   },
   "file_extension": ".py",
   "mimetype": "text/x-python",
   "name": "python",
   "nbconvert_exporter": "python",
   "pygments_lexer": "ipython3",
   "version": "3.12.3"
  }
 },
 "nbformat": 4,
 "nbformat_minor": 4
}
